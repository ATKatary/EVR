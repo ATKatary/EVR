{
 "cells": [
  {
   "cell_type": "code",
   "execution_count": 53,
   "id": "56b3ecbd-e004-433e-a2bf-0379b8ac645a",
   "metadata": {},
   "outputs": [],
   "source": [
    "from factories import LossFactory\n",
    "import numpy as np\n",
    "import cv2\n",
    "import matplotlib.pyplot as plt\n",
    "import torch"
   ]
  },
  {
   "cell_type": "code",
   "execution_count": 75,
   "id": "7050dcbe-5833-4908-a5ab-8218571f4f5f",
   "metadata": {},
   "outputs": [],
   "source": [
    "res = plt.imread('./results/run_4/val_restored.png')[:,:,:3]\n",
    "ref = plt.imread('./results/run_4/val_ref.png')[:,:,:3]\n",
    "small = cv2.resize(ref, (180, 340))\n",
    "bilin = cv2.resize(small, res.shape[:2][::-1])"
   ]
  },
  {
   "cell_type": "code",
   "execution_count": 76,
   "id": "30dddd2b-2d37-4181-a5e9-4cda2c2f5fe3",
   "metadata": {},
   "outputs": [],
   "source": [
    "ref = torch.from_numpy(ref.transpose(2, 0, 1)).unsqueeze(0).cuda()*255\n",
    "res = torch.from_numpy(res.transpose(2, 0, 1)).unsqueeze(0).cuda()*255\n",
    "bilin = torch.from_numpy(bilin.transpose(2, 0, 1)).unsqueeze(0).cuda()*255"
   ]
  },
  {
   "cell_type": "code",
   "execution_count": 77,
   "id": "8213183a-c638-4438-9633-d928525ca28a",
   "metadata": {},
   "outputs": [
    {
     "data": {
      "text/plain": [
       "torch.Size([1, 3, 360, 640])"
      ]
     },
     "execution_count": 77,
     "metadata": {},
     "output_type": "execute_result"
    }
   ],
   "source": [
    "bilin.shape"
   ]
  },
  {
   "cell_type": "code",
   "execution_count": 78,
   "id": "8140830c-4356-430f-b03a-8f6dc4003265",
   "metadata": {},
   "outputs": [],
   "source": [
    "loss = LossFactory()"
   ]
  },
  {
   "cell_type": "code",
   "execution_count": 80,
   "id": "6b034497-fb18-46c2-872c-7058bea5afed",
   "metadata": {},
   "outputs": [
    {
     "name": "stdout",
     "output_type": "stream",
     "text": [
      "tensor(0.1371, device='cuda:0')\n"
     ]
    }
   ],
   "source": [
    "with torch.no_grad():\n",
    "    print(loss.total_loss(bilin, ref))"
   ]
  },
  {
   "cell_type": "code",
   "execution_count": null,
   "id": "a3b54794-33e9-4676-9cd0-be7813479df8",
   "metadata": {},
   "outputs": [],
   "source": []
  }
 ],
 "metadata": {
  "kernelspec": {
   "display_name": "Python 3",
   "language": "python",
   "name": "python3"
  },
  "language_info": {
   "codemirror_mode": {
    "name": "ipython",
    "version": 3
   },
   "file_extension": ".py",
   "mimetype": "text/x-python",
   "name": "python",
   "nbconvert_exporter": "python",
   "pygments_lexer": "ipython3",
   "version": "3.9.7"
  }
 },
 "nbformat": 4,
 "nbformat_minor": 5
}

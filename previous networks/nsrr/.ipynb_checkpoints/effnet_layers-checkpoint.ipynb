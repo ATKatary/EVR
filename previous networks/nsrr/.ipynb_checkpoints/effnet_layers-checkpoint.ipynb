{
 "cells": [
  {
   "cell_type": "code",
   "execution_count": 2,
   "id": "babd9de1-3f22-4274-89ed-4b66d310375c",
   "metadata": {},
   "outputs": [],
   "source": [
    "import torch\n",
    "from torchvision import models\n",
    "import torchvision"
   ]
  },
  {
   "cell_type": "code",
   "execution_count": 3,
   "id": "878f3781-dc85-4368-9c23-d649f7e5256b",
   "metadata": {},
   "outputs": [],
   "source": [
    "def flatten_effnet(model):\n",
    "    ''' flatten out the model into individual layers '''\n",
    "\n",
    "    flattened = []\n",
    "    def dfs_layer(layer):\n",
    "        flat = []\n",
    "        # check if layer has children\n",
    "        if len([x for x in layer.children()]) > 0:\n",
    "            for sublayer in layer.children():\n",
    "                children = [x for x in sublayer.children()]\n",
    "                if type(sublayer) == torchvision.ops.misc.SqueezeExcitation:\n",
    "                    flat.append(children[0])  # avgpool\n",
    "                    flat.append(children[1])  # conv1\n",
    "                    flat.append(children[3])  # silu\n",
    "                    flat.append(children[2])  # conv2\n",
    "                    flat.append(children[4])  # sigmoid\n",
    "                else:\n",
    "                    if len(children) > 0:\n",
    "                        flat += dfs_layer(sublayer)\n",
    "                    else:\n",
    "                        flat.append(sublayer)\n",
    "\n",
    "                    # check if mbconv uses residual connection\n",
    "                    if type(sublayer) == torchvision.models.efficientnet.MBConv:\n",
    "                        if sublayer.use_res_connect:\n",
    "                            flat.insert(-1, 'MBConvResidual')\n",
    "        else:\n",
    "            flat.append(layer)\n",
    "        return flat\n",
    "\n",
    "    for i, layer in enumerate(model.children()):\n",
    "        flattened += dfs_layer(layer)\n",
    "    \n",
    "    return flattened"
   ]
  },
  {
   "cell_type": "code",
   "execution_count": 4,
   "id": "ae77aa05-538e-49a5-a36e-a7f493e236af",
   "metadata": {},
   "outputs": [],
   "source": [
    "# Create effnet model and run an example load\n",
    "model = models.efficientnet_b0(pretrained=True)\n",
    "model.eval()\n",
    "\n",
    "t = torch.ones((1, 3, 224, 224))\n",
    "out_ref = model(t)"
   ]
  },
  {
   "cell_type": "code",
   "execution_count": 5,
   "id": "96d02092-79c9-416b-b28c-de91a68f24e6",
   "metadata": {},
   "outputs": [
    {
     "name": "stdout",
     "output_type": "stream",
     "text": [
      "Conv2d(3, 32, kernel_size=(3, 3), stride=(2, 2), padding=(1, 1), bias=False)\n",
      "BatchNorm2d(32, eps=1e-05, momentum=0.1, affine=True, track_running_stats=True)\n",
      "SiLU(inplace=True)\n",
      "Conv2d(32, 32, kernel_size=(3, 3), stride=(1, 1), padding=(1, 1), groups=32, bias=False)\n",
      "BatchNorm2d(32, eps=1e-05, momentum=0.1, affine=True, track_running_stats=True)\n"
     ]
    }
   ],
   "source": [
    "# create flattened model\n",
    "flattened = flatten_effnet(model)\n",
    "for layer in flattened[0:5]:\n",
    "    print(layer) "
   ]
  },
  {
   "cell_type": "code",
   "execution_count": 6,
   "id": "828e51d2-03f5-4825-8625-1db3797e3cfb",
   "metadata": {},
   "outputs": [],
   "source": [
    "# Run the example load through flattened model, layer by layer\n",
    "x = t.clone()\n",
    "outs = [x]\n",
    "for i in range(len(flattened)):\n",
    "    # check if layer is a residual layer\n",
    "    if flattened[i] != 'MBConvResidual':\n",
    "        \n",
    "        # if it's a linear layer, need to flatten input\n",
    "        if type(flattened[i]) == torch.nn.Linear:\n",
    "            x = torch.flatten(x, -3, -1)\n",
    "\n",
    "        # run input through current layer\n",
    "        x = flattened[i](x)\n",
    "        outs.append(x)\n",
    "\n",
    "        # if it's sigmoid layer, need to use it as weight in sqeueeze\n",
    "        # excitation block with previous layer\n",
    "        if type(flattened[i]) == torch.nn.modules.activation.Sigmoid:\n",
    "            prev = outs[i-5]\n",
    "            x = x * prev\n",
    "            \n",
    "    else:\n",
    "        # if it's a residual layer, do it\n",
    "        x = x + outs[i-13]\n",
    "        outs.append(x)\n",
    "out = x"
   ]
  },
  {
   "cell_type": "code",
   "execution_count": 7,
   "id": "e927b837-1432-4d8f-870f-ca4380e350d2",
   "metadata": {},
   "outputs": [
    {
     "data": {
      "text/plain": [
       "0.0"
      ]
     },
     "execution_count": 7,
     "metadata": {},
     "output_type": "execute_result"
    }
   ],
   "source": [
    "# check if model output equals flattened model output\n",
    "torch.max(abs(out_ref - out)).item()"
   ]
  },
  {
   "cell_type": "code",
   "execution_count": 9,
   "id": "139a3f08-551d-454d-b6e1-624ad09a5e17",
   "metadata": {},
   "outputs": [
    {
     "name": "stdout",
     "output_type": "stream",
     "text": [
      "Conv2d(3, 32, kernel_size=(3, 3), stride=(2, 2), padding=(1, 1), bias=False)\n",
      "Conv2d(32, 32, kernel_size=(3, 3), stride=(1, 1), padding=(1, 1), groups=32, bias=False)\n",
      "Conv2d(32, 8, kernel_size=(1, 1), stride=(1, 1))\n",
      "Conv2d(8, 32, kernel_size=(1, 1), stride=(1, 1))\n",
      "Conv2d(32, 16, kernel_size=(1, 1), stride=(1, 1), bias=False)\n",
      "Conv2d(16, 96, kernel_size=(1, 1), stride=(1, 1), bias=False)\n",
      "Conv2d(96, 96, kernel_size=(3, 3), stride=(2, 2), padding=(1, 1), groups=96, bias=False)\n",
      "Conv2d(96, 4, kernel_size=(1, 1), stride=(1, 1))\n",
      "Conv2d(4, 96, kernel_size=(1, 1), stride=(1, 1))\n",
      "Conv2d(96, 24, kernel_size=(1, 1), stride=(1, 1), bias=False)\n",
      "Conv2d(24, 144, kernel_size=(1, 1), stride=(1, 1), bias=False)\n",
      "Conv2d(144, 144, kernel_size=(3, 3), stride=(1, 1), padding=(1, 1), groups=144, bias=False)\n",
      "Conv2d(144, 6, kernel_size=(1, 1), stride=(1, 1))\n",
      "Conv2d(6, 144, kernel_size=(1, 1), stride=(1, 1))\n",
      "Conv2d(144, 24, kernel_size=(1, 1), stride=(1, 1), bias=False)\n",
      "Conv2d(24, 144, kernel_size=(1, 1), stride=(1, 1), bias=False)\n",
      "Conv2d(144, 144, kernel_size=(5, 5), stride=(2, 2), padding=(2, 2), groups=144, bias=False)\n",
      "Conv2d(144, 6, kernel_size=(1, 1), stride=(1, 1))\n",
      "Conv2d(6, 144, kernel_size=(1, 1), stride=(1, 1))\n",
      "Conv2d(144, 40, kernel_size=(1, 1), stride=(1, 1), bias=False)\n",
      "Conv2d(40, 240, kernel_size=(1, 1), stride=(1, 1), bias=False)\n",
      "Conv2d(240, 240, kernel_size=(5, 5), stride=(1, 1), padding=(2, 2), groups=240, bias=False)\n",
      "Conv2d(240, 10, kernel_size=(1, 1), stride=(1, 1))\n",
      "Conv2d(10, 240, kernel_size=(1, 1), stride=(1, 1))\n",
      "Conv2d(240, 40, kernel_size=(1, 1), stride=(1, 1), bias=False)\n",
      "Conv2d(40, 240, kernel_size=(1, 1), stride=(1, 1), bias=False)\n",
      "Conv2d(240, 240, kernel_size=(3, 3), stride=(2, 2), padding=(1, 1), groups=240, bias=False)\n",
      "Conv2d(240, 10, kernel_size=(1, 1), stride=(1, 1))\n",
      "Conv2d(10, 240, kernel_size=(1, 1), stride=(1, 1))\n",
      "Conv2d(240, 80, kernel_size=(1, 1), stride=(1, 1), bias=False)\n",
      "Conv2d(80, 480, kernel_size=(1, 1), stride=(1, 1), bias=False)\n",
      "Conv2d(480, 480, kernel_size=(3, 3), stride=(1, 1), padding=(1, 1), groups=480, bias=False)\n",
      "Conv2d(480, 20, kernel_size=(1, 1), stride=(1, 1))\n",
      "Conv2d(20, 480, kernel_size=(1, 1), stride=(1, 1))\n",
      "Conv2d(480, 80, kernel_size=(1, 1), stride=(1, 1), bias=False)\n",
      "Conv2d(80, 480, kernel_size=(1, 1), stride=(1, 1), bias=False)\n",
      "Conv2d(480, 480, kernel_size=(3, 3), stride=(1, 1), padding=(1, 1), groups=480, bias=False)\n",
      "Conv2d(480, 20, kernel_size=(1, 1), stride=(1, 1))\n",
      "Conv2d(20, 480, kernel_size=(1, 1), stride=(1, 1))\n",
      "Conv2d(480, 80, kernel_size=(1, 1), stride=(1, 1), bias=False)\n",
      "Conv2d(80, 480, kernel_size=(1, 1), stride=(1, 1), bias=False)\n",
      "Conv2d(480, 480, kernel_size=(5, 5), stride=(1, 1), padding=(2, 2), groups=480, bias=False)\n",
      "Conv2d(480, 20, kernel_size=(1, 1), stride=(1, 1))\n",
      "Conv2d(20, 480, kernel_size=(1, 1), stride=(1, 1))\n",
      "Conv2d(480, 112, kernel_size=(1, 1), stride=(1, 1), bias=False)\n",
      "Conv2d(112, 672, kernel_size=(1, 1), stride=(1, 1), bias=False)\n",
      "Conv2d(672, 672, kernel_size=(5, 5), stride=(1, 1), padding=(2, 2), groups=672, bias=False)\n",
      "Conv2d(672, 28, kernel_size=(1, 1), stride=(1, 1))\n",
      "Conv2d(28, 672, kernel_size=(1, 1), stride=(1, 1))\n",
      "Conv2d(672, 112, kernel_size=(1, 1), stride=(1, 1), bias=False)\n",
      "Conv2d(112, 672, kernel_size=(1, 1), stride=(1, 1), bias=False)\n",
      "Conv2d(672, 672, kernel_size=(5, 5), stride=(1, 1), padding=(2, 2), groups=672, bias=False)\n",
      "Conv2d(672, 28, kernel_size=(1, 1), stride=(1, 1))\n",
      "Conv2d(28, 672, kernel_size=(1, 1), stride=(1, 1))\n",
      "Conv2d(672, 112, kernel_size=(1, 1), stride=(1, 1), bias=False)\n",
      "Conv2d(112, 672, kernel_size=(1, 1), stride=(1, 1), bias=False)\n",
      "Conv2d(672, 672, kernel_size=(5, 5), stride=(2, 2), padding=(2, 2), groups=672, bias=False)\n",
      "Conv2d(672, 28, kernel_size=(1, 1), stride=(1, 1))\n",
      "Conv2d(28, 672, kernel_size=(1, 1), stride=(1, 1))\n",
      "Conv2d(672, 192, kernel_size=(1, 1), stride=(1, 1), bias=False)\n",
      "Conv2d(192, 1152, kernel_size=(1, 1), stride=(1, 1), bias=False)\n",
      "Conv2d(1152, 1152, kernel_size=(5, 5), stride=(1, 1), padding=(2, 2), groups=1152, bias=False)\n",
      "Conv2d(1152, 48, kernel_size=(1, 1), stride=(1, 1))\n",
      "Conv2d(48, 1152, kernel_size=(1, 1), stride=(1, 1))\n",
      "Conv2d(1152, 192, kernel_size=(1, 1), stride=(1, 1), bias=False)\n",
      "Conv2d(192, 1152, kernel_size=(1, 1), stride=(1, 1), bias=False)\n",
      "Conv2d(1152, 1152, kernel_size=(5, 5), stride=(1, 1), padding=(2, 2), groups=1152, bias=False)\n",
      "Conv2d(1152, 48, kernel_size=(1, 1), stride=(1, 1))\n",
      "Conv2d(48, 1152, kernel_size=(1, 1), stride=(1, 1))\n",
      "Conv2d(1152, 192, kernel_size=(1, 1), stride=(1, 1), bias=False)\n",
      "Conv2d(192, 1152, kernel_size=(1, 1), stride=(1, 1), bias=False)\n",
      "Conv2d(1152, 1152, kernel_size=(5, 5), stride=(1, 1), padding=(2, 2), groups=1152, bias=False)\n",
      "Conv2d(1152, 48, kernel_size=(1, 1), stride=(1, 1))\n",
      "Conv2d(48, 1152, kernel_size=(1, 1), stride=(1, 1))\n",
      "Conv2d(1152, 192, kernel_size=(1, 1), stride=(1, 1), bias=False)\n",
      "Conv2d(192, 1152, kernel_size=(1, 1), stride=(1, 1), bias=False)\n",
      "Conv2d(1152, 1152, kernel_size=(3, 3), stride=(1, 1), padding=(1, 1), groups=1152, bias=False)\n",
      "Conv2d(1152, 48, kernel_size=(1, 1), stride=(1, 1))\n",
      "Conv2d(48, 1152, kernel_size=(1, 1), stride=(1, 1))\n",
      "Conv2d(1152, 320, kernel_size=(1, 1), stride=(1, 1), bias=False)\n",
      "Conv2d(320, 1280, kernel_size=(1, 1), stride=(1, 1), bias=False)\n"
     ]
    }
   ],
   "source": [
    "for layer in flattened:\n",
    "    if type(layer) == torch.nn.Conv2d:\n",
    "        print(layer)"
   ]
  },
  {
   "cell_type": "code",
   "execution_count": null,
   "id": "702a2894-a38f-4b79-9da8-f97593c6fb2a",
   "metadata": {},
   "outputs": [],
   "source": []
  }
 ],
 "metadata": {
  "kernelspec": {
   "display_name": "Python 3",
   "language": "python",
   "name": "python3"
  },
  "language_info": {
   "codemirror_mode": {
    "name": "ipython",
    "version": 3
   },
   "file_extension": ".py",
   "mimetype": "text/x-python",
   "name": "python",
   "nbconvert_exporter": "python",
   "pygments_lexer": "ipython3",
   "version": "3.9.7"
  }
 },
 "nbformat": 4,
 "nbformat_minor": 5
}
